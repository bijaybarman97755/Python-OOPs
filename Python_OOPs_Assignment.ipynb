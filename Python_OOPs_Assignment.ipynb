{
  "nbformat": 4,
  "nbformat_minor": 0,
  "metadata": {
    "colab": {
      "provenance": []
    },
    "kernelspec": {
      "name": "python3",
      "display_name": "Python 3"
    },
    "language_info": {
      "name": "python"
    }
  },
  "cells": [
    {
      "cell_type": "markdown",
      "source": [
        "# **Python OOPs Questions Solution**"
      ],
      "metadata": {
        "id": "vHcRqFqgbVpm"
      }
    },
    {
      "cell_type": "markdown",
      "source": [
        "# **Q1. What is Object-Oriented Programming (OOP)?**\n",
        "  . Object-Oriented Programming (OOP) is a programming paradigm that organizes software design around data, or objects, rather than\n",
        "functions and logic."
      ],
      "metadata": {
        "id": "rCJCGhuPcdmK"
      }
    },
    {
      "cell_type": "markdown",
      "source": [
        "# **Q2. What is a class in OOP?**\n",
        "  . A class serves as a blueprint or template for creating objects."
      ],
      "metadata": {
        "id": "fLxIJ9tRcoya"
      }
    },
    {
      "cell_type": "markdown",
      "source": [
        "# **Q3. What is an object in OOP?**\n",
        "  . An object is a unit of code that represents a real-world entity, such as a person or a Vehicle."
      ],
      "metadata": {
        "id": "uLYp71dQcwNQ"
      }
    },
    {
      "cell_type": "markdown",
      "source": [
        "# **Q4. What is the difference between abstraction and encapsulation?**\n",
        "  . Abstraction hides unnecessary details while encapsulation controls access to data."
      ],
      "metadata": {
        "id": "Km--Kl1lc19g"
      }
    },
    {
      "cell_type": "markdown",
      "source": [
        "# **Q5. What are dunder methods in Python?**\n",
        "  . In Python, \"dunder\" methods, also known as \"magic\" or \"special\" methods, are methods with double underscores at the beginning and end of their names ( _init, __str_).They allow you to define how your objects behave with Python's built-in operations."
      ],
      "metadata": {
        "id": "QP4uE0LNc-eX"
      }
    },
    {
      "cell_type": "markdown",
      "source": [
        "# **Q6.  Explain the concept of inheritance in OOP.**\n",
        "  . Inheritance is a core concept in Object-Oriented Programming (OOP) that allows a class to inherit properties and behaviors from another class. This fosters code reusability and establishes a hierarchical relationship between classes."
      ],
      "metadata": {
        "id": "Ke4VoEjrdFrn"
      }
    },
    {
      "cell_type": "markdown",
      "source": [
        "# **Q7. What is polymorphism in OOP?**\n",
        "  . Polymorphism, in the context of Object-Oriented Programming (OOP), essentially means \"many forms."
      ],
      "metadata": {
        "id": "Cdp8ivQqdK3Y"
      }
    },
    {
      "cell_type": "markdown",
      "source": [
        "# **Q8.  How is encapsulation achieved in Python?**\n",
        "  . Encapsulation in Python, like in other Object-Oriented Programming (OOP) languages, is about bundling data (attributes) and methods (functions) that operate on that data within a single unit, a class."
      ],
      "metadata": {
        "id": "zCtCI6zMdQ4n"
      }
    },
    {
      "cell_type": "markdown",
      "source": [
        "# **Q9.  What is a constructor in Python?**\n",
        "  . In Python, a \"constructor\" is a special method called _init_ which is automatically invoked when a new object is created from a class, and its primary function is to initialize the object's attributes with initial values."
      ],
      "metadata": {
        "id": "10qPB5rFdh9n"
      }
    },
    {
      "cell_type": "markdown",
      "source": [
        "# **Q10.  What are class and static methods in python?**\n",
        "  . class and static methods are special types of methods that are bound to a class rather than an instance of the class."
      ],
      "metadata": {
        "id": "bxeQIfmydr-9"
      }
    },
    {
      "cell_type": "markdown",
      "source": [
        "# **Q11.  What is method overloading in Python?**\n",
        "  . It's important to understand that Python's approach to method overloading differs from that of languages like Java or C++."
      ],
      "metadata": {
        "id": "c9nHHvEkdyln"
      }
    },
    {
      "cell_type": "markdown",
      "source": [
        "# **Q12. What is method overriding in OOP?**\n",
        "  . In OOP, method overriding is a powerful mechanism that allows a subclass to provide a specific implementation for a method that is already defined in its superclass."
      ],
      "metadata": {
        "id": "JoXCV2NFd4re"
      }
    },
    {
      "cell_type": "markdown",
      "source": [
        "# **Q13. What is a property decorator in Python?**\n",
        "  . The @property decorator allows you to define getter, setter, and deleter methods for attributes."
      ],
      "metadata": {
        "id": "HzDO7hAPeCWY"
      }
    },
    {
      "cell_type": "markdown",
      "source": [
        "# **Q14. Why is polymorphism important in OOP?**\n",
        "  . Polymorphism is a cornerstone of Object-Oriented Programming (OOP) for several crucial reasons, significantly impacting code flexibility, maintainability, and reusability."
      ],
      "metadata": {
        "id": "RXSKzsMbeKBs"
      }
    },
    {
      "cell_type": "markdown",
      "source": [
        "# **Q15. What is an abstract class in Python?**\n",
        "  . In Python, an abstract class serves as a blueprint for other classes. It defines a structure and set of methods that its subclasses must implement."
      ],
      "metadata": {
        "id": "mLlf1o2GePz8"
      }
    },
    {
      "cell_type": "markdown",
      "source": [
        "# **Q16. What are the advantages of OOP?**\n",
        "  . OOP offers numerous advantages that contribute to the development of robust, maintainable, and scalable software.  including improved code organization, code reusability, and simplified systems."
      ],
      "metadata": {
        "id": "f9W3hB57eWvN"
      }
    },
    {
      "cell_type": "markdown",
      "source": [
        "# **Q17. What is the difference between a class variable and an instance variable?**\n",
        "  . In object-oriented programming, class variables are shared across all instances of a class, while instance variables are unique to each instance."
      ],
      "metadata": {
        "id": "mGBqVTpXeeCj"
      }
    },
    {
      "cell_type": "markdown",
      "source": [
        "# **Q18. What is multiple inheritance in Python?**\n",
        "  . Multiple inheritance is when a class inherits attributes and methods from more than one parent class. This allows a class to combine behaviors from multiple other classes."
      ],
      "metadata": {
        "id": "c_WzTVt1ekaz"
      }
    },
    {
      "cell_type": "markdown",
      "source": [
        "# **Q19.  Explain the purpose of ‘’_str’ and ‘repr_’ ‘ methods in Python.**\n",
        "  . Both _str_  and _repr_  are special \"dunder\" methods in Python used to provide string representations of objects."
      ],
      "metadata": {
        "id": "oVLsJyc0eqkD"
      }
    },
    {
      "cell_type": "markdown",
      "source": [
        "# **Q20. What is the significance of the ‘super()’ function in Python?**\n",
        "  . The super() function in Python plays a crucial role in object-oriented programming, particularly when dealing with inheritance and method overriding."
      ],
      "metadata": {
        "id": "uHgjPL8me2Jq"
      }
    },
    {
      "cell_type": "markdown",
      "source": [
        "# **Q21. What is the significance of the _del_ method in Python?**\n",
        "  . The _del_ method in Python is a special method, often referred to as a \"destructor,\" that is called when an object is about to be garbage collected. Its significance, however, is often misunderstood and its use is generally discouraged.\n"
      ],
      "metadata": {
        "id": "h3ALA8ZyfAdD"
      }
    },
    {
      "cell_type": "markdown",
      "source": [
        "# **Q22.  What is the difference between @staticmethod and @classmethod in Python?**\n",
        "  . The @staticmethod and @classmethod decorators in Python are used to define methods within a class that are bound to the class itself rather than to an instance of the class. However, they differ significantly in how they are used and what arguments they receive."
      ],
      "metadata": {
        "id": "58BBK5SQfa9C"
      }
    },
    {
      "cell_type": "markdown",
      "source": [
        "# **Q23.  How does polymorphism work in Python with inheritance?**\n",
        "  . Polymorphism in Python, particularly in the context of inheritance, allows objects of different classes to respond to the same method call in their own unique ways."
      ],
      "metadata": {
        "id": "IYQgYhTlfgnq"
      }
    },
    {
      "cell_type": "markdown",
      "source": [
        "# **Q24. What is method chaining in Python OOP?**\n",
        "  . Method chaining in Python OOP is a technique where you call multiple methods on an object in a single line of code, one after the other. It works by having each method return the object itself, allowing you to immediately call another method on it."
      ],
      "metadata": {
        "id": "e7Ro674Jfmch"
      }
    },
    {
      "cell_type": "markdown",
      "source": [
        "# **Q25.  What is the purpose of the _call_ method in Python?**\n",
        "  . The _call_ method in Python is a special method that allows an object to be called like a regular function. When you define _call_ in a class, instances of that class become \"callable\" objects."
      ],
      "metadata": {
        "id": "u3c1n6jEft8Y"
      }
    },
    {
      "cell_type": "markdown",
      "source": [
        "# **Practical Questions Solutions**"
      ],
      "metadata": {
        "id": "Y9fvtq8zgC-_"
      }
    },
    {
      "cell_type": "markdown",
      "source": [
        "# **Q1. Create a parent class Animal with a method speak() that prints a generic message. Create a child class Dog that overrides the speak() method to print \"Bark!\".**"
      ],
      "metadata": {
        "id": "y61QBypjgflW"
      }
    },
    {
      "cell_type": "code",
      "source": [
        "class Animal:\n",
        "    def speak(self):\n",
        "        print(\"Generic animal sound.\")\n",
        "\n",
        "class Dog(Animal):\n",
        "    def speak(self):\n",
        "        print(\"Bark!\")\n",
        "\n",
        "animal = Animal()\n",
        "dog = Dog()\n",
        "\n",
        "animal.speak()\n",
        "dog.speak()"
      ],
      "metadata": {
        "colab": {
          "base_uri": "https://localhost:8080/"
        },
        "id": "kqaMskt-hXJs",
        "outputId": "5a133a93-cfed-439a-e104-d527651a0dc2"
      },
      "execution_count": 1,
      "outputs": [
        {
          "output_type": "stream",
          "name": "stdout",
          "text": [
            "Generic animal sound.\n",
            "Bark!\n"
          ]
        }
      ]
    },
    {
      "cell_type": "markdown",
      "source": [
        "# **Q2. Write a program to create an abstract class Shape with a method area(). Derive classes Circle and Rectangle from it and implement the area() method in both**"
      ],
      "metadata": {
        "id": "8aMQW_lqhqBd"
      }
    },
    {
      "cell_type": "code",
      "source": [
        "from abc import ABC, abstractmethod\n",
        "import math\n",
        "\n",
        "class Shape(ABC):\n",
        "    @abstractmethod\n",
        "    def area(self):\n",
        "        pass\n",
        "\n",
        "class Circle(Shape):\n",
        "    def __init__(self, radius):\n",
        "        self.radius = radius\n",
        "\n",
        "    def area(self):\n",
        "        return math.pi * self.radius * self.radius\n",
        "\n",
        "class Rectangle(Shape):\n",
        "    def __init__(self, length, width):\n",
        "        self.length = length\n",
        "        self.width = width\n",
        "\n",
        "    def area(self):\n",
        "        return self.length * self.width\n",
        "\n",
        "circle = Circle(5)\n",
        "rectangle = Rectangle(4, 6)\n",
        "\n",
        "print(f\"Area of the circle: {circle.area():.2f}\")\n",
        "print(f\"Area of the rectangle: {rectangle.area()}\")"
      ],
      "metadata": {
        "colab": {
          "base_uri": "https://localhost:8080/"
        },
        "id": "5wiBijy4hu3D",
        "outputId": "fbeaae9b-b49d-4951-ecd2-9fd0766ce9a5"
      },
      "execution_count": 2,
      "outputs": [
        {
          "output_type": "stream",
          "name": "stdout",
          "text": [
            "Area of the circle: 78.54\n",
            "Area of the rectangle: 24\n"
          ]
        }
      ]
    },
    {
      "cell_type": "markdown",
      "source": [
        "# **Q3. Implement a multi-level inheritance scenario where a class Vehicle has an attribute type. Derive a class Car and further derive a class ElectricCar that adds a battery attribute**"
      ],
      "metadata": {
        "id": "4D8WZ41LiuT3"
      }
    },
    {
      "cell_type": "code",
      "source": [
        "class Vehicle:\n",
        "    def __init__(self, vehicle_type):\n",
        "        self.type = vehicle_type\n",
        "\n",
        "    def display_type(self):\n",
        "        print(f\"Vehicle type: {self.type}\")\n",
        "\n",
        "class Car(Vehicle):\n",
        "    def __init__(self, vehicle_type, model):\n",
        "        super().__init__(vehicle_type)\n",
        "        self.model = model\n",
        "\n",
        "    def display_model(self):\n",
        "        print(f\"Model: {self.model}\")\n",
        "\n",
        "class ElectricCar(Car):\n",
        "    def __init__(self, vehicle_type, model, battery_capacity):\n",
        "        super().__init__(vehicle_type, model)\n",
        "        self.battery_capacity = battery_capacity\n",
        "\n",
        "    def display_battery(self):\n",
        "        print(f\"Battery capacity: {self.battery_capacity} kWh\")\n",
        "\n",
        "vehicle = Vehicle(\"Generic\")\n",
        "vehicle.display_type()\n",
        "\n",
        "car = Car(\"Car\", \"Sedan\")\n",
        "car.display_type()\n",
        "car.display_model()\n",
        "\n",
        "electric_car = ElectricCar(\"Electric Car\", \"Model S\", 100)\n",
        "electric_car.display_type()\n",
        "electric_car.display_model()\n",
        "electric_car.display_battery()"
      ],
      "metadata": {
        "colab": {
          "base_uri": "https://localhost:8080/"
        },
        "id": "UGymkny_i7Mv",
        "outputId": "c427d0ca-7e08-4c20-f4ad-25ccd013f43e"
      },
      "execution_count": 3,
      "outputs": [
        {
          "output_type": "stream",
          "name": "stdout",
          "text": [
            "Vehicle type: Generic\n",
            "Vehicle type: Car\n",
            "Model: Sedan\n",
            "Vehicle type: Electric Car\n",
            "Model: Model S\n",
            "Battery capacity: 100 kWh\n"
          ]
        }
      ]
    },
    {
      "cell_type": "markdown",
      "source": [
        "# Q4.  Demonstrate polymorphism by creating a base class Bird with a method fly(). Create two derived classes Sparrow and Penguin that override the fly() method."
      ],
      "metadata": {
        "id": "KD-Xzu6cjQSX"
      }
    },
    {
      "cell_type": "code",
      "source": [
        "class Bird:\n",
        "    def fly(self):\n",
        "        print(\"Bird can fly.\")\n",
        "\n",
        "class Sparrow(Bird):\n",
        "    def fly(self):\n",
        "        print(\"Sparrow is flying.\")\n",
        "\n",
        "class Penguin(Bird):\n",
        "    def fly(self):\n",
        "        print(\"Penguin cannot fly, but it can swim.\")\n",
        "\n",
        "def bird_flight(bird):\n",
        "    bird.fly()\n",
        "\n",
        "generic_bird = Bird()\n",
        "sparrow = Sparrow()\n",
        "penguin = Penguin()\n",
        "\n",
        "bird_flight(generic_bird)\n",
        "bird_flight(sparrow)\n",
        "bird_flight(penguin)"
      ],
      "metadata": {
        "colab": {
          "base_uri": "https://localhost:8080/"
        },
        "id": "rWznpFlzjZUe",
        "outputId": "ecc6dd67-0866-4344-fb9a-22974c6ee36a"
      },
      "execution_count": 4,
      "outputs": [
        {
          "output_type": "stream",
          "name": "stdout",
          "text": [
            "Bird can fly.\n",
            "Sparrow is flying.\n",
            "Penguin cannot fly, but it can swim.\n"
          ]
        }
      ]
    },
    {
      "cell_type": "markdown",
      "source": [
        "# **Q5.  Write a program to demonstrate encapsulation by creating a class BankAccount with private attributes balance and methods to deposit, withdraw, and check balance.**"
      ],
      "metadata": {
        "id": "S6-kD2uujrtk"
      }
    },
    {
      "cell_type": "code",
      "source": [
        "class BankAccount:\n",
        "    def __init__(self, initial_balance=0):\n",
        "        self.__balance = initial_balance\n",
        "\n",
        "    def deposit(self, amount):\n",
        "        if amount > 0:\n",
        "            self.__balance += amount\n",
        "            print(f\"Deposited ${amount}. New balance: ${self.__balance}\")\n",
        "        else:\n",
        "            print(\"Invalid deposit amount.\")\n",
        "\n",
        "    def withdraw(self, amount):\n",
        "        if 0 < amount <= self.__balance:\n",
        "            self.__balance -= amount\n",
        "            print(f\"Withdrew ${amount}. New balance: ${self.__balance}\")\n",
        "        elif amount <= 0:\n",
        "            print(\"Invalid withdrawal amount.\")\n",
        "        else:\n",
        "            print(\"Insufficient funds.\")\n",
        "\n",
        "    def check_balance(self):\n",
        "        print(f\"Current balance: ${self.__balance}\")\n",
        "\n",
        "account = BankAccount(1000)\n",
        "account.check_balance()\n",
        "\n",
        "account.deposit(500)\n",
        "account.check_balance()\n",
        "\n",
        "account.withdraw(200)\n",
        "account.check_balance()\n",
        "\n",
        "account.withdraw(1500)\n",
        "account.withdraw(-10)"
      ],
      "metadata": {
        "colab": {
          "base_uri": "https://localhost:8080/"
        },
        "id": "2tOdMcEakFVM",
        "outputId": "208eda4c-3065-469b-a301-67abfd52dd01"
      },
      "execution_count": 5,
      "outputs": [
        {
          "output_type": "stream",
          "name": "stdout",
          "text": [
            "Current balance: $1000\n",
            "Deposited $500. New balance: $1500\n",
            "Current balance: $1500\n",
            "Withdrew $200. New balance: $1300\n",
            "Current balance: $1300\n",
            "Insufficient funds.\n",
            "Invalid withdrawal amount.\n"
          ]
        }
      ]
    },
    {
      "cell_type": "markdown",
      "source": [
        "# **Q6. Demonstrate runtime polymorphism using a method play() in a base class Instrument. Derive classes Guitar and Piano that implement their own version of play().**"
      ],
      "metadata": {
        "id": "mdHnq_ewk6hT"
      }
    },
    {
      "cell_type": "code",
      "source": [
        "class Instrument:\n",
        "    def play(self):\n",
        "        print(\"Playing a generic instrument.\")\n",
        "\n",
        "class Guitar(Instrument):\n",
        "    def play(self):\n",
        "        print(\"Playing a guitar: Strumming chords.\")\n",
        "\n",
        "class Piano(Instrument):\n",
        "    def play(self):\n",
        "        print(\"Playing a piano: Tinkling keys.\")\n",
        "\n",
        "def perform_music(instrument):\n",
        "    instrument.play()\n",
        "\n",
        "generic_instrument = Instrument()\n",
        "guitar = Guitar()\n",
        "piano = Piano()\n",
        "\n",
        "perform_music(generic_instrument)\n",
        "perform_music(guitar)\n",
        "perform_music(piano)"
      ],
      "metadata": {
        "colab": {
          "base_uri": "https://localhost:8080/"
        },
        "id": "0eXUS1JulCki",
        "outputId": "5cb11776-b6cf-4d5a-8888-335f3e5439cc"
      },
      "execution_count": 6,
      "outputs": [
        {
          "output_type": "stream",
          "name": "stdout",
          "text": [
            "Playing a generic instrument.\n",
            "Playing a guitar: Strumming chords.\n",
            "Playing a piano: Tinkling keys.\n"
          ]
        }
      ]
    },
    {
      "cell_type": "markdown",
      "source": [
        "# **Q7.  Create a class MathOperations with a class method add_numbers() to add two numbers and a static method subtract_numbers() to subtract two numbers.**"
      ],
      "metadata": {
        "id": "tGk3l7yRltJZ"
      }
    },
    {
      "cell_type": "code",
      "source": [
        "class MathOperations:\n",
        "    @classmethod\n",
        "    def add_numbers(cls, num1, num2):\n",
        "        return num1 + num2\n",
        "\n",
        "    @staticmethod\n",
        "    def subtract_numbers(num1, num2):\n",
        "        return num1 - num2\n",
        "result_add = MathOperations.add_numbers(5, 3)\n",
        "result_subtract = MathOperations.subtract_numbers(10, 4)\n",
        "\n",
        "print(f\"Addition result: {result_add}\")\n",
        "print(f\"Subtraction result: {result_subtract}\")"
      ],
      "metadata": {
        "colab": {
          "base_uri": "https://localhost:8080/"
        },
        "id": "NG8S6F5cmFm4",
        "outputId": "e0d14c4e-0ac1-4c2a-b9e6-5d9c64488586"
      },
      "execution_count": 7,
      "outputs": [
        {
          "output_type": "stream",
          "name": "stdout",
          "text": [
            "Addition result: 8\n",
            "Subtraction result: 6\n"
          ]
        }
      ]
    },
    {
      "cell_type": "markdown",
      "source": [
        "# **Q9. Write a class Fraction with attributes numerator and denominator. Override the str method to display the fraction as \"numerator/denominator\".**"
      ],
      "metadata": {
        "id": "V6-7vluqodSR"
      }
    },
    {
      "cell_type": "code",
      "source": [
        "class Fraction:\n",
        "    \"\"\"\n",
        "    Represents a fraction with a numerator and denominator.\n",
        "    \"\"\"\n",
        "\n",
        "    def __init__(self, numerator, denominator):\n",
        "        \"\"\"\n",
        "        Initializes a Fraction object.\n",
        "\n",
        "        Args:\n",
        "            numerator (int): The numerator of the fraction.\n",
        "            denominator (int): The denominator of the fraction.\n",
        "        \"\"\"\n",
        "        self.numerator = numerator\n",
        "        self.denominator = denominator\n",
        "\n",
        "    def __str__(self):\n",
        "        \"\"\"\n",
        "        Returns a string representation of the fraction.\n",
        "\n",
        "        Returns:\n",
        "            str: The fraction in the format \"numerator/denominator\".\n",
        "        \"\"\"\n",
        "        return f\"{self.numerator}/{self.denominator}\"\n",
        "\n",
        "fraction1 = Fraction(1, 2)\n",
        "fraction2 = Fraction(3, 4)\n",
        "fraction3 = Fraction(5,6)\n",
        "\n",
        "print(fraction1)\n",
        "print(fraction2)\n",
        "print(fraction3)"
      ],
      "metadata": {
        "colab": {
          "base_uri": "https://localhost:8080/"
        },
        "id": "Q7oy57IqoozR",
        "outputId": "27a6f131-fb42-4378-86e9-31578a5f84d2"
      },
      "execution_count": 11,
      "outputs": [
        {
          "output_type": "stream",
          "name": "stdout",
          "text": [
            "1/2\n",
            "3/4\n",
            "5/6\n"
          ]
        }
      ]
    },
    {
      "cell_type": "markdown",
      "source": [
        "# **Q10. Demonstrate operator overloading by creating a class Vector and overriding the add method to add two vectors.**"
      ],
      "metadata": {
        "id": "ET_1j527o55Y"
      }
    },
    {
      "cell_type": "code",
      "source": [
        "class Vector:\n",
        "    \"\"\"\n",
        "    Represents a vector in n-dimensional space.\n",
        "    \"\"\"\n",
        "\n",
        "    def __init__(self, coordinates):\n",
        "        \"\"\"\n",
        "        Initializes a Vector object.\n",
        "\n",
        "        Args:\n",
        "            coordinates (list): A list of numbers representing the vector's coordinates.\n",
        "        \"\"\"\n",
        "        self.coordinates = coordinates\n",
        "\n",
        "    def __add__(self, other):\n",
        "        \"\"\"\n",
        "        Adds two vectors together.\n",
        "\n",
        "        Args:\n",
        "            other (Vector): The other vector to add.\n",
        "\n",
        "        Returns:\n",
        "            Vector: A new Vector object representing the sum of the two vectors.\n",
        "        \"\"\"\n",
        "        if len(self.coordinates) != len(other.coordinates):\n",
        "            raise ValueError(\"Vectors must have the same dimension.\")\n",
        "\n",
        "        result_coordinates = [x + y for x, y in zip(self.coordinates, other.coordinates)]\n",
        "        return Vector(result_coordinates)\n",
        "\n",
        "    def __str__(self):\n",
        "        \"\"\"\n",
        "        Returns a string representation of the vector.\n",
        "\n",
        "        Returns:\n",
        "            str: The vector in the format \"(x1, x2, ..., xn)\".\n",
        "        \"\"\"\n",
        "        return str(tuple(self.coordinates))\n",
        "\n",
        "v1 = Vector([1, 2, 3])\n",
        "v2 = Vector([4, 5, 6])\n",
        "\n",
        "v3 = v1 + v2\n",
        "\n",
        "print(v1)\n",
        "print(v2)\n",
        "print(v3)"
      ],
      "metadata": {
        "colab": {
          "base_uri": "https://localhost:8080/"
        },
        "id": "wa17z6WWpFNm",
        "outputId": "357290ec-b888-4343-e003-cd2e75b24862"
      },
      "execution_count": 12,
      "outputs": [
        {
          "output_type": "stream",
          "name": "stdout",
          "text": [
            "(1, 2, 3)\n",
            "(4, 5, 6)\n",
            "(5, 7, 9)\n"
          ]
        }
      ]
    },
    {
      "cell_type": "markdown",
      "source": [
        "# **Q11. Create a class Person with attributes name and age. Add a method greet() that prints \"Hello, my name is {name} and I am {age} years old.\"**"
      ],
      "metadata": {
        "id": "-rrY5t0hpWuw"
      }
    },
    {
      "cell_type": "code",
      "source": [
        "class Person:\n",
        "    \"\"\"\n",
        "    Represents a person with a name and age.\n",
        "    \"\"\"\n",
        "\n",
        "    def __init__(self, name, age):\n",
        "        \"\"\"\n",
        "        Initializes a Person object.\n",
        "\n",
        "        Args:\n",
        "            name (str): The person's name.\n",
        "            age (int): The person's age.\n",
        "        \"\"\"\n",
        "        self.name = name\n",
        "        self.age = age\n",
        "\n",
        "    def greet(self):\n",
        "        \"\"\"\n",
        "        Prints a greeting message with the person's name and age.\n",
        "        \"\"\"\n",
        "        print(f\"Hello, my name is {self.name} and I am {self.age} years old.\")\n",
        "\n",
        "person1 = Person(\"Alice\", 30)\n",
        "person2 = Person(\"Bob\", 25)\n",
        "\n",
        "person1.greet()\n",
        "person2.greet()"
      ],
      "metadata": {
        "colab": {
          "base_uri": "https://localhost:8080/"
        },
        "id": "6cc8iaTHpcu-",
        "outputId": "3f402899-12ae-4297-f33b-6efdcc58face"
      },
      "execution_count": 13,
      "outputs": [
        {
          "output_type": "stream",
          "name": "stdout",
          "text": [
            "Hello, my name is Alice and I am 30 years old.\n",
            "Hello, my name is Bob and I am 25 years old.\n"
          ]
        }
      ]
    },
    {
      "cell_type": "markdown",
      "source": [
        "# **Q12.  Implement a class Student with attributes name and grades. Create a method average_grade() to compute the average of the grades.**"
      ],
      "metadata": {
        "id": "sP_9KkrpqD50"
      }
    },
    {
      "cell_type": "code",
      "source": [
        "class Student:\n",
        "    \"\"\"\n",
        "    Represents a student with a name and a list of grades.\n",
        "    \"\"\"\n",
        "\n",
        "    def __init__(self, name, grades):\n",
        "        \"\"\"\n",
        "        Initializes a Student object.\n",
        "\n",
        "        Args:\n",
        "            name (str): The student's name.\n",
        "            grades (list): A list of the student's grades (numbers).\n",
        "        \"\"\"\n",
        "        self.name = name\n",
        "        self.grades = grades\n",
        "\n",
        "    def average_grade(self):\n",
        "        \"\"\"\n",
        "        Computes the average of the student's grades.\n",
        "\n",
        "        Returns:\n",
        "            float: The average grade, or 0 if there are no grades.\n",
        "        \"\"\"\n",
        "        if not self.grades:\n",
        "            return 0\n",
        "        return sum(self.grades) / len(self.grades)\n",
        "\n",
        "student1 = Student(\"Alice\", [85, 90, 78, 92])\n",
        "student2 = Student(\"Bob\", [70, 75, 80])\n",
        "student3 = Student(\"Charlie\", [])\n",
        "\n",
        "print(f\"{student1.name}'s average grade: {student1.average_grade()}\")\n",
        "print(f\"{student2.name}'s average grade: {student2.average_grade()}\")\n",
        "print(f\"{student3.name}'s average grade: {student3.average_grade()}\")"
      ],
      "metadata": {
        "colab": {
          "base_uri": "https://localhost:8080/"
        },
        "id": "av7LtismqN-d",
        "outputId": "f7dd8af8-24f2-4c73-efdd-8e315e537e05"
      },
      "execution_count": 14,
      "outputs": [
        {
          "output_type": "stream",
          "name": "stdout",
          "text": [
            "Alice's average grade: 86.25\n",
            "Bob's average grade: 75.0\n",
            "Charlie's average grade: 0\n"
          ]
        }
      ]
    },
    {
      "cell_type": "markdown",
      "source": [
        "# **Q13. Create a class Rectangle with methods set_dimensions() to set the dimensions and area() to calculate the area.**"
      ],
      "metadata": {
        "id": "kw7Rrr29qjXz"
      }
    },
    {
      "cell_type": "code",
      "source": [
        "class Rectangle:\n",
        "    \"\"\"\n",
        "    Represents a rectangle with width and height.\n",
        "    \"\"\"\n",
        "\n",
        "    def __init__(self):\n",
        "        \"\"\"\n",
        "        Initializes a Rectangle object with default dimensions (0, 0).\n",
        "        \"\"\"\n",
        "        self.width = 0\n",
        "        self.height = 0\n",
        "\n",
        "    def set_dimensions(self, width, height):\n",
        "        \"\"\"\n",
        "        Sets the dimensions of the rectangle.\n",
        "\n",
        "        Args:\n",
        "            width (float): The width of the rectangle.\n",
        "            height (float): The height of the rectangle.\n",
        "        \"\"\"\n",
        "        self.width = width\n",
        "        self.height = height\n",
        "\n",
        "    def area(self):\n",
        "        \"\"\"\n",
        "        Calculates the area of the rectangle.\n",
        "\n",
        "        Returns:\n",
        "            float: The area of the rectangle.\n",
        "        \"\"\"\n",
        "        return self.width * self.height\n",
        "\n",
        "rectangle1 = Rectangle()\n",
        "rectangle1.set_dimensions(5, 10)\n",
        "print(f\"Rectangle 1 area: {rectangle1.area()}\")\n",
        "\n",
        "rectangle2 = Rectangle()\n",
        "rectangle2.set_dimensions(3.5, 7.2)\n",
        "print(f\"Rectangle 2 area: {rectangle2.area()}\")"
      ],
      "metadata": {
        "colab": {
          "base_uri": "https://localhost:8080/"
        },
        "id": "t4GiK78-qq8L",
        "outputId": "1abebd18-f5b4-4359-b74a-2210a5d4dd72"
      },
      "execution_count": 15,
      "outputs": [
        {
          "output_type": "stream",
          "name": "stdout",
          "text": [
            "Rectangle 1 area: 50\n",
            "Rectangle 2 area: 25.2\n"
          ]
        }
      ]
    },
    {
      "cell_type": "markdown",
      "source": [
        "# **Q14. Create a class Employee with a method calculate_salary() that computes the salary based on hours worked and hourly rate. Create a derived class Manager that adds a bonus to the salary.**"
      ],
      "metadata": {
        "id": "G8W5aOQrrLby"
      }
    },
    {
      "cell_type": "code",
      "source": [
        "class Employee:\n",
        "    \"\"\"\n",
        "    Represents an employee with hours worked and hourly rate.\n",
        "    \"\"\"\n",
        "\n",
        "    def __init__(self, hours_worked, hourly_rate):\n",
        "        \"\"\"\n",
        "        Initializes an Employee object.\n",
        "\n",
        "        Args:\n",
        "            hours_worked (float): The number of hours worked.\n",
        "            hourly_rate (float): The hourly rate.\n",
        "        \"\"\"\n",
        "        self.hours_worked = hours_worked\n",
        "        self.hourly_rate = hourly_rate\n",
        "\n",
        "    def calculate_salary(self):\n",
        "        \"\"\"\n",
        "        Calculates the salary based on hours worked and hourly rate.\n",
        "\n",
        "        Returns:\n",
        "            float: The calculated salary.\n",
        "        \"\"\"\n",
        "        return self.hours_worked * self.hourly_rate\n",
        "\n",
        "\n",
        "class Manager(Employee):\n",
        "    \"\"\"\n",
        "    Represents a manager, a derived class of Employee, with a bonus.\n",
        "    \"\"\"\n",
        "\n",
        "    def __init__(self, hours_worked, hourly_rate, bonus):\n",
        "        \"\"\"\n",
        "        Initializes a Manager object.\n",
        "\n",
        "        Args:\n",
        "            hours_worked (float): The number of hours worked.\n",
        "            hourly_rate (float): The hourly rate.\n",
        "            bonus (float): The bonus amount.\n",
        "        \"\"\"\n",
        "        super().__init__(hours_worked, hourly_rate)\n",
        "        self.bonus = bonus\n",
        "\n",
        "    def calculate_salary(self):\n",
        "        \"\"\"\n",
        "        Calculates the salary with the bonus added.\n",
        "\n",
        "        Returns:\n",
        "            float: The calculated salary with bonus.\n",
        "        \"\"\"\n",
        "        return super().calculate_salary() + self.bonus\n",
        "\n",
        "employee1 = Employee(40, 15)\n",
        "manager1 = Manager(40, 25, 500)\n",
        "\n",
        "print(f\"Employee salary: ${employee1.calculate_salary()}\")\n",
        "print(f\"Manager salary: ${manager1.calculate_salary()}\")"
      ],
      "metadata": {
        "colab": {
          "base_uri": "https://localhost:8080/"
        },
        "id": "wB3Df1HprTTq",
        "outputId": "3932cf68-f9ea-4608-f9d6-79146b63b1fb"
      },
      "execution_count": 16,
      "outputs": [
        {
          "output_type": "stream",
          "name": "stdout",
          "text": [
            "Employee salary: $600\n",
            "Manager salary: $1500\n"
          ]
        }
      ]
    }
  ]
}